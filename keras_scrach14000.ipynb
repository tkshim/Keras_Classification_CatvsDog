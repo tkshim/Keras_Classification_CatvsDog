{
 "cells": [
  {
   "cell_type": "code",
   "execution_count": 1,
   "metadata": {
    "colab": {
     "autoexec": {
      "startup": false,
      "wait_interval": 0
     },
     "base_uri": "https://localhost:8080/",
     "height": 34
    },
    "colab_type": "code",
    "collapsed": false,
    "executionInfo": {
     "elapsed": 10487,
     "status": "ok",
     "timestamp": 1525584441047,
     "user": {
      "displayName": "T Shim",
      "photoUrl": "//lh4.googleusercontent.com/-dtY5ug5Jr14/AAAAAAAAAAI/AAAAAAAAFYE/W2sK6ViWp2o/s50-c-k-no/photo.jpg",
      "userId": "108216370908916447883"
     },
     "user_tz": -540
    },
    "id": "rRPLS8DD6R6m",
    "outputId": "7f7b8c00-b8ac-4af4-ead4-4da0bf9f9505"
   },
   "outputs": [
    {
     "data": {
      "text/plain": [
       "'/device:GPU:0'"
      ]
     },
     "execution_count": 1,
     "metadata": {
      "tags": []
     },
     "output_type": "execute_result"
    }
   ],
   "source": [
    "import tensorflow as tf\n",
    "tf.test.gpu_device_name()"
   ]
  },
  {
   "cell_type": "code",
   "execution_count": 2,
   "metadata": {
    "colab": {
     "autoexec": {
      "startup": false,
      "wait_interval": 0
     },
     "base_uri": "https://localhost:8080/",
     "height": 34
    },
    "colab_type": "code",
    "collapsed": false,
    "executionInfo": {
     "elapsed": 708,
     "status": "ok",
     "timestamp": 1525584506394,
     "user": {
      "displayName": "T Shim",
      "photoUrl": "//lh4.googleusercontent.com/-dtY5ug5Jr14/AAAAAAAAAAI/AAAAAAAAFYE/W2sK6ViWp2o/s50-c-k-no/photo.jpg",
      "userId": "108216370908916447883"
     },
     "user_tz": -540
    },
    "id": "Us82UGfo6vQL",
    "outputId": "6e874d66-9d0c-4bb2-f113-8f513e88cd06"
   },
   "outputs": [
    {
     "name": "stderr",
     "output_type": "stream",
     "text": [
      "Using TensorFlow backend.\n"
     ]
    }
   ],
   "source": [
    "#ライブラリの読み込み\n",
    "import os\n",
    "from keras.models import Sequential\n",
    "from keras.layers import Convolution2D, MaxPooling2D\n",
    "from keras.layers import Activation, Dropout, Flatten, Dense\n",
    "from keras.preprocessing.image import ImageDataGenerator\n",
    "\n",
    "nb_epoch = 50\n",
    "result_dir = 'results'"
   ]
  },
  {
   "cell_type": "code",
   "execution_count": 0,
   "metadata": {
    "colab": {
     "autoexec": {
      "startup": false,
      "wait_interval": 0
     }
    },
    "colab_type": "code",
    "collapsed": true,
    "id": "7AVUYsDE7L--"
   },
   "outputs": [],
   "source": [
    "#学習モデル保存関数\n",
    "def save_history(history, result_file):\n",
    "    loss = history.history['loss']\n",
    "    acc = history.history['acc']\n",
    "    val_loss = history.history['val_loss']\n",
    "    val_acc = history.history['val_acc']\n",
    "    nb_epoch = len(acc)\n",
    "\n",
    "    with open(result_file, \"w\") as fp:\n",
    "        fp.write(\"epoch\\tloss\\tacc\\tval_loss\\tval_acc\\n\")\n",
    "        for i in range(nb_epoch):\n",
    "            fp.write(\"%d\\t%f\\t%f\\t%f\\t%f\\n\" % (i, loss[i], acc[i], val_loss[i], val_acc[i]))"
   ]
  },
  {
   "cell_type": "code",
   "execution_count": 6,
   "metadata": {
    "colab": {
     "autoexec": {
      "startup": false,
      "wait_interval": 0
     },
     "base_uri": "https://localhost:8080/",
     "height": 139
    },
    "colab_type": "code",
    "collapsed": false,
    "executionInfo": {
     "elapsed": 651,
     "status": "ok",
     "timestamp": 1525584568594,
     "user": {
      "displayName": "T Shim",
      "photoUrl": "//lh4.googleusercontent.com/-dtY5ug5Jr14/AAAAAAAAAAI/AAAAAAAAFYE/W2sK6ViWp2o/s50-c-k-no/photo.jpg",
      "userId": "108216370908916447883"
     },
     "user_tz": -540
    },
    "id": "iCBpYEyE7Nda",
    "outputId": "97736daf-ae7b-4aad-8503-a858ff32bd1d"
   },
   "outputs": [
    {
     "name": "stderr",
     "output_type": "stream",
     "text": [
      "/usr/local/lib/python3.6/dist-packages/ipykernel_launcher.py:2: UserWarning: Update your `Conv2D` call to the Keras 2 API: `Conv2D(32, (3, 3), input_shape=(150, 150,...)`\n",
      "  \n",
      "/usr/local/lib/python3.6/dist-packages/ipykernel_launcher.py:6: UserWarning: Update your `Conv2D` call to the Keras 2 API: `Conv2D(32, (3, 3))`\n",
      "  \n",
      "/usr/local/lib/python3.6/dist-packages/ipykernel_launcher.py:10: UserWarning: Update your `Conv2D` call to the Keras 2 API: `Conv2D(64, (3, 3))`\n",
      "  # Remove the CWD from sys.path while we load stuff.\n"
     ]
    }
   ],
   "source": [
    "#モデル作成\n",
    "#optimizerはadamを設定\n",
    "\n",
    "model = Sequential()\n",
    "model.add(Convolution2D(32, 3, 3, input_shape=(150, 150, 3)))\n",
    "model.add(Activation('relu'))\n",
    "model.add(MaxPooling2D(pool_size=(2, 2)))\n",
    "\n",
    "model.add(Convolution2D(32, 3, 3))\n",
    "model.add(Activation('relu'))\n",
    "model.add(MaxPooling2D(pool_size=(2, 2)))\n",
    "\n",
    "model.add(Convolution2D(64, 3, 3))\n",
    "model.add(Activation('relu'))\n",
    "model.add(MaxPooling2D(pool_size=(2, 2)))\n",
    "\n",
    "model.add(Flatten())\n",
    "model.add(Dense(64))\n",
    "model.add(Activation('relu'))\n",
    "model.add(Dropout(0.5))\n",
    "model.add(Dense(1))\n",
    "model.add(Activation('sigmoid'))\n",
    "\n",
    "model.compile(loss='binary_crossentropy',\n",
    "              optimizer='adam',\n",
    "              metrics=['accuracy'])"
   ]
  },
  {
   "cell_type": "code",
   "execution_count": 7,
   "metadata": {
    "colab": {
     "autoexec": {
      "startup": false,
      "wait_interval": 0
     },
     "base_uri": "https://localhost:8080/",
     "height": 51
    },
    "colab_type": "code",
    "collapsed": false,
    "executionInfo": {
     "elapsed": 1715,
     "status": "ok",
     "timestamp": 1525584597204,
     "user": {
      "displayName": "T Shim",
      "photoUrl": "//lh4.googleusercontent.com/-dtY5ug5Jr14/AAAAAAAAAAI/AAAAAAAAFYE/W2sK6ViWp2o/s50-c-k-no/photo.jpg",
      "userId": "108216370908916447883"
     },
     "user_tz": -540
    },
    "id": "2IWSOmPQ7R5G",
    "outputId": "03919384-c35f-4612-ceb2-419749eb57d1"
   },
   "outputs": [
    {
     "name": "stdout",
     "output_type": "stream",
     "text": [
      "Found 14000 images belonging to 2 classes.\n",
      "Found 6000 images belonging to 2 classes.\n"
     ]
    }
   ],
   "source": [
    "#データ準備\n",
    "train_datagen = ImageDataGenerator(\n",
    "    rescale=1.0 / 255,\n",
    "    shear_range=0.2,\n",
    "    zoom_range=0.2,\n",
    "    horizontal_flip=True)\n",
    "\n",
    "validation_datagen = ImageDataGenerator(rescale=1.0 / 255)\n",
    "\n",
    "train_generator = train_datagen.flow_from_directory(\n",
    "    'train',\n",
    "    target_size=(150, 150),\n",
    "    batch_size=32,\n",
    "    class_mode='binary')\n",
    "\n",
    "validation_generator = validation_datagen.flow_from_directory(\n",
    "    'validation',\n",
    "    target_size=(150, 150),\n",
    "    batch_size=32,\n",
    "    class_mode='binary')"
   ]
  },
  {
   "cell_type": "code",
   "execution_count": 8,
   "metadata": {
    "colab": {
     "autoexec": {
      "startup": false,
      "wait_interval": 0
     },
     "base_uri": "https://localhost:8080/",
     "height": 1805
    },
    "colab_type": "code",
    "collapsed": false,
    "executionInfo": {
     "elapsed": 6959484,
     "status": "ok",
     "timestamp": 1525591567467,
     "user": {
      "displayName": "T Shim",
      "photoUrl": "//lh4.googleusercontent.com/-dtY5ug5Jr14/AAAAAAAAAAI/AAAAAAAAFYE/W2sK6ViWp2o/s50-c-k-no/photo.jpg",
      "userId": "108216370908916447883"
     },
     "user_tz": -540
    },
    "id": "WvRuue197Yng",
    "outputId": "b37ae2eb-19cf-443b-be5a-58c2afb8c556"
   },
   "outputs": [
    {
     "name": "stderr",
     "output_type": "stream",
     "text": [
      "/usr/local/lib/python3.6/dist-packages/ipykernel_launcher.py:4: UserWarning: The semantics of the Keras 2 argument `steps_per_epoch` is not the same as the Keras 1 argument `samples_per_epoch`. `steps_per_epoch` is the number of batches to draw from the generator at each epoch. Basically steps_per_epoch = samples_per_epoch/batch_size. Similarly `nb_val_samples`->`validation_steps` and `val_samples`->`steps` arguments have changed. Update your method calls accordingly.\n",
      "  after removing the cwd from sys.path.\n",
      "/usr/local/lib/python3.6/dist-packages/ipykernel_launcher.py:4: UserWarning: Update your `fit_generator` call to the Keras 2 API: `fit_generator(<keras.pre..., validation_data=<keras.pre..., epochs=50)`\n",
      "  after removing the cwd from sys.path.\n"
     ]
    },
    {
     "name": "stdout",
     "output_type": "stream",
     "text": [
      "Epoch 1/50\n",
      "438/438 [==============================] - 145s 330ms/step - loss: 0.6608 - acc: 0.5957 - val_loss: 0.6485 - val_acc: 0.6095\n",
      "Epoch 2/50\n",
      "264/438 [=================>............] - ETA: 47s - loss: 0.5844 - acc: 0.6919438/438 [==============================] - 142s 325ms/step - loss: 0.5769 - acc: 0.6990 - val_loss: 0.5114 - val_acc: 0.7502\n",
      "Epoch 3/50\n",
      "397/438 [==========================>...] - ETA: 11s - loss: 0.5203 - acc: 0.7455438/438 [==============================] - 142s 325ms/step - loss: 0.5198 - acc: 0.7466 - val_loss: 0.4683 - val_acc: 0.7797\n",
      "Epoch 4/50\n",
      "438/438 [==============================] - 142s 325ms/step - loss: 0.4824 - acc: 0.7721 - val_loss: 0.4805 - val_acc: 0.7710\n",
      "Epoch 5/50\n",
      "  5/438 [..............................] - ETA: 26s - loss: 0.4733 - acc: 0.7625438/438 [==============================] - 141s 323ms/step - loss: 0.4600 - acc: 0.7884 - val_loss: 0.4243 - val_acc: 0.8087\n",
      "Epoch 6/50\n",
      "300/438 [===================>..........] - ETA: 37s - loss: 0.4349 - acc: 0.8036438/438 [==============================] - 139s 318ms/step - loss: 0.4317 - acc: 0.8047 - val_loss: 0.4013 - val_acc: 0.8168\n",
      "Epoch 7/50\n",
      "409/438 [===========================>..] - ETA: 7s - loss: 0.4137 - acc: 0.8165438/438 [==============================] - 140s 320ms/step - loss: 0.4146 - acc: 0.8165 - val_loss: 0.3737 - val_acc: 0.8323\n",
      "Epoch 8/50\n",
      "438/438 [==============================] - 143s 328ms/step - loss: 0.3937 - acc: 0.8238 - val_loss: 0.4194 - val_acc: 0.8133\n",
      "Epoch 9/50\n",
      "  7/438 [..............................] - ETA: 25s - loss: 0.4285 - acc: 0.7991438/438 [==============================] - 144s 328ms/step - loss: 0.3838 - acc: 0.8306 - val_loss: 0.3720 - val_acc: 0.8328\n",
      "Epoch 10/50\n",
      "299/438 [===================>..........] - ETA: 38s - loss: 0.3736 - acc: 0.8436438/438 [==============================] - 142s 325ms/step - loss: 0.3703 - acc: 0.8412 - val_loss: 0.3730 - val_acc: 0.8380\n",
      "Epoch 11/50\n",
      "409/438 [===========================>..] - ETA: 8s - loss: 0.3520 - acc: 0.8485438/438 [==============================] - 145s 332ms/step - loss: 0.3533 - acc: 0.8467 - val_loss: 0.3659 - val_acc: 0.8392\n",
      "Epoch 12/50\n",
      "438/438 [==============================] - 143s 327ms/step - loss: 0.3499 - acc: 0.8492 - val_loss: 0.3510 - val_acc: 0.8480\n",
      "Epoch 13/50\n",
      "  7/438 [..............................] - ETA: 26s - loss: 0.2598 - acc: 0.8884438/438 [==============================] - 144s 330ms/step - loss: 0.3335 - acc: 0.8596 - val_loss: 0.3266 - val_acc: 0.8610\n",
      "Epoch 14/50\n",
      "301/438 [===================>..........] - ETA: 38s - loss: 0.3209 - acc: 0.8637438/438 [==============================] - 144s 329ms/step - loss: 0.3244 - acc: 0.8624 - val_loss: 0.4085 - val_acc: 0.8277\n",
      "Epoch 15/50\n",
      "409/438 [===========================>..] - ETA: 8s - loss: 0.3189 - acc: 0.8641438/438 [==============================] - 140s 320ms/step - loss: 0.3180 - acc: 0.8642 - val_loss: 0.3357 - val_acc: 0.8557\n",
      "Epoch 16/50\n",
      "438/438 [==============================] - 139s 318ms/step - loss: 0.3109 - acc: 0.8705 - val_loss: 0.3676 - val_acc: 0.8507\n",
      "Epoch 17/50\n",
      "  6/438 [..............................] - ETA: 24s - loss: 0.3778 - acc: 0.8490438/438 [==============================] - 139s 317ms/step - loss: 0.3005 - acc: 0.8739 - val_loss: 0.3466 - val_acc: 0.8622\n",
      "Epoch 18/50\n",
      "300/438 [===================>..........] - ETA: 37s - loss: 0.2923 - acc: 0.8741438/438 [==============================] - 139s 317ms/step - loss: 0.2928 - acc: 0.8726 - val_loss: 0.4471 - val_acc: 0.8185\n",
      "Epoch 19/50\n",
      "409/438 [===========================>..] - ETA: 7s - loss: 0.2868 - acc: 0.8826438/438 [==============================] - 139s 317ms/step - loss: 0.2864 - acc: 0.8825 - val_loss: 0.3198 - val_acc: 0.8613\n",
      "Epoch 20/50\n",
      "438/438 [==============================] - 140s 319ms/step - loss: 0.2812 - acc: 0.8797 - val_loss: 0.3197 - val_acc: 0.8730\n",
      "Epoch 21/50\n",
      "  7/438 [..............................] - ETA: 26s - loss: 0.3348 - acc: 0.8616438/438 [==============================] - 140s 319ms/step - loss: 0.2709 - acc: 0.8871 - val_loss: 0.3869 - val_acc: 0.8522\n",
      "Epoch 22/50\n",
      "300/438 [===================>..........] - ETA: 37s - loss: 0.2685 - acc: 0.8892438/438 [==============================] - 139s 318ms/step - loss: 0.2745 - acc: 0.8861 - val_loss: 0.3568 - val_acc: 0.8495\n",
      "Epoch 23/50\n",
      "409/438 [===========================>..] - ETA: 7s - loss: 0.2642 - acc: 0.8897438/438 [==============================] - 140s 319ms/step - loss: 0.2632 - acc: 0.8904 - val_loss: 0.3019 - val_acc: 0.8830\n",
      "Epoch 24/50\n",
      "438/438 [==============================] - 141s 322ms/step - loss: 0.2574 - acc: 0.8941 - val_loss: 0.3598 - val_acc: 0.8563\n",
      "Epoch 25/50\n",
      "  7/438 [..............................] - ETA: 26s - loss: 0.2942 - acc: 0.8705438/438 [==============================] - 138s 316ms/step - loss: 0.2572 - acc: 0.8968 - val_loss: 0.3090 - val_acc: 0.8753\n",
      "Epoch 26/50\n",
      "299/438 [===================>..........] - ETA: 37s - loss: 0.2488 - acc: 0.8989438/438 [==============================] - 138s 315ms/step - loss: 0.2518 - acc: 0.8965 - val_loss: 0.3029 - val_acc: 0.8772\n",
      "Epoch 27/50\n",
      "408/438 [==========================>...] - ETA: 8s - loss: 0.2423 - acc: 0.9003438/438 [==============================] - 138s 315ms/step - loss: 0.2427 - acc: 0.8999 - val_loss: 0.3113 - val_acc: 0.8760\n",
      "Epoch 28/50\n",
      "438/438 [==============================] - 139s 318ms/step - loss: 0.2347 - acc: 0.9044 - val_loss: 0.2990 - val_acc: 0.8798\n",
      "Epoch 29/50\n",
      "  6/438 [..............................] - ETA: 26s - loss: 0.2565 - acc: 0.8958438/438 [==============================] - 136s 311ms/step - loss: 0.2337 - acc: 0.9043 - val_loss: 0.3394 - val_acc: 0.8710\n",
      "Epoch 30/50\n",
      "301/438 [===================>..........] - ETA: 36s - loss: 0.2235 - acc: 0.9086438/438 [==============================] - 135s 309ms/step - loss: 0.2288 - acc: 0.9061 - val_loss: 0.3111 - val_acc: 0.8797\n",
      "Epoch 31/50\n",
      "409/438 [===========================>..] - ETA: 7s - loss: 0.2239 - acc: 0.9066438/438 [==============================] - 141s 321ms/step - loss: 0.2266 - acc: 0.9050 - val_loss: 0.3270 - val_acc: 0.8665\n",
      "Epoch 32/50\n",
      "438/438 [==============================] - 142s 323ms/step - loss: 0.2205 - acc: 0.9115 - val_loss: 0.3290 - val_acc: 0.8767\n",
      "Epoch 33/50\n",
      "  7/438 [..............................] - ETA: 28s - loss: 0.2010 - acc: 0.9241438/438 [==============================] - 141s 322ms/step - loss: 0.2152 - acc: 0.9130 - val_loss: 0.3464 - val_acc: 0.8788\n",
      "Epoch 34/50\n",
      "300/438 [===================>..........] - ETA: 38s - loss: 0.2098 - acc: 0.9126438/438 [==============================] - 142s 325ms/step - loss: 0.2096 - acc: 0.9127 - val_loss: 0.3229 - val_acc: 0.8868\n",
      "Epoch 35/50\n",
      "409/438 [===========================>..] - ETA: 7s - loss: 0.2107 - acc: 0.9127438/438 [==============================] - 138s 314ms/step - loss: 0.2112 - acc: 0.9122 - val_loss: 0.3495 - val_acc: 0.8805\n",
      "Epoch 36/50\n",
      "438/438 [==============================] - 135s 307ms/step - loss: 0.2005 - acc: 0.9206 - val_loss: 0.3155 - val_acc: 0.8903\n",
      "Epoch 37/50\n",
      "  7/438 [..............................] - ETA: 24s - loss: 0.2312 - acc: 0.9152438/438 [==============================] - 134s 306ms/step - loss: 0.2044 - acc: 0.9163 - val_loss: 0.3420 - val_acc: 0.8870\n",
      "Epoch 38/50\n",
      "298/438 [===================>..........] - ETA: 38s - loss: 0.1982 - acc: 0.9159438/438 [==============================] - 141s 323ms/step - loss: 0.1959 - acc: 0.9186 - val_loss: 0.3230 - val_acc: 0.8877\n",
      "Epoch 39/50\n",
      "409/438 [===========================>..] - ETA: 8s - loss: 0.1902 - acc: 0.9252438/438 [==============================] - 141s 322ms/step - loss: 0.1930 - acc: 0.9235 - val_loss: 0.2963 - val_acc: 0.8925\n",
      "Epoch 40/50\n",
      "438/438 [==============================] - 137s 312ms/step - loss: 0.1956 - acc: 0.9217 - val_loss: 0.3399 - val_acc: 0.8742\n",
      "Epoch 41/50\n",
      "  7/438 [..............................] - ETA: 25s - loss: 0.2057 - acc: 0.9241438/438 [==============================] - 136s 310ms/step - loss: 0.1997 - acc: 0.9225 - val_loss: 0.3235 - val_acc: 0.8902\n",
      "Epoch 42/50\n",
      "299/438 [===================>..........] - ETA: 36s - loss: 0.1853 - acc: 0.9250438/438 [==============================] - 134s 307ms/step - loss: 0.1909 - acc: 0.9234 - val_loss: 0.3695 - val_acc: 0.8813\n",
      "Epoch 43/50\n",
      "408/438 [==========================>...] - ETA: 7s - loss: 0.1821 - acc: 0.9255438/438 [==============================] - 135s 308ms/step - loss: 0.1837 - acc: 0.9249 - val_loss: 0.3200 - val_acc: 0.8907\n",
      "Epoch 44/50\n",
      "438/438 [==============================] - 137s 312ms/step - loss: 0.1780 - acc: 0.9293 - val_loss: 0.3686 - val_acc: 0.8842\n",
      "Epoch 45/50\n",
      "  8/438 [..............................] - ETA: 23s - loss: 0.1489 - acc: 0.9297438/438 [==============================] - 135s 309ms/step - loss: 0.1817 - acc: 0.9259 - val_loss: 0.3469 - val_acc: 0.8912\n",
      "Epoch 46/50\n",
      "301/438 [===================>..........] - ETA: 35s - loss: 0.1796 - acc: 0.9273438/438 [==============================] - 134s 306ms/step - loss: 0.1830 - acc: 0.9262 - val_loss: 0.2979 - val_acc: 0.8835\n",
      "Epoch 47/50\n",
      "410/438 [===========================>..] - ETA: 7s - loss: 0.1854 - acc: 0.9245438/438 [==============================] - 134s 305ms/step - loss: 0.1839 - acc: 0.9252 - val_loss: 0.3290 - val_acc: 0.8872\n",
      "Epoch 48/50\n",
      "438/438 [==============================] - 133s 303ms/step - loss: 0.1732 - acc: 0.9288 - val_loss: 0.3342 - val_acc: 0.8865\n",
      "Epoch 49/50\n",
      "  6/438 [..............................] - ETA: 25s - loss: 0.1287 - acc: 0.9375438/438 [==============================] - 134s 307ms/step - loss: 0.1770 - acc: 0.9292 - val_loss: 0.3080 - val_acc: 0.8797\n",
      "Epoch 50/50\n",
      "300/438 [===================>..........] - ETA: 36s - loss: 0.1757 - acc: 0.9323438/438 [==============================] - 135s 309ms/step - loss: 0.1772 - acc: 0.9307 - val_loss: 0.3531 - val_acc: 0.8832\n"
     ]
    }
   ],
   "source": [
    "#モデル実行\n",
    "history = model.fit_generator(\n",
    "    train_generator,\n",
    "    nb_epoch=nb_epoch,\n",
    "    validation_data=validation_generator)"
   ]
  },
  {
   "cell_type": "code",
   "execution_count": 0,
   "metadata": {
    "colab": {
     "autoexec": {
      "startup": false,
      "wait_interval": 0
     }
    },
    "colab_type": "code",
    "collapsed": true,
    "id": "gar1X4HoarKo"
   },
   "outputs": [],
   "source": [
    "#結果保存\n",
    "model.save_weights(os.path.join(result_dir, 'base_keras.h5'))\n",
    "save_history(history, os.path.join(result_dir, 'history_base_keras.txt'))"
   ]
  },
  {
   "cell_type": "code",
   "execution_count": 0,
   "metadata": {
    "colab": {
     "autoexec": {
      "startup": false,
      "wait_interval": 0
     }
    },
    "colab_type": "code",
    "collapsed": true,
    "id": "DhAwx91dasJb"
   },
   "outputs": [],
   "source": [
    "学習モデルの結果\n",
    "loss: 0.1772\n",
    "acc: 0.9307"
   ]
  },
  {
   "cell_type": "code",
   "execution_count": 11,
   "metadata": {
    "colab": {
     "autoexec": {
      "startup": false,
      "wait_interval": 0
     },
     "base_uri": "https://localhost:8080/",
     "height": 571
    },
    "colab_type": "code",
    "collapsed": false,
    "executionInfo": {
     "elapsed": 1263,
     "status": "ok",
     "timestamp": 1525592873544,
     "user": {
      "displayName": "T Shim",
      "photoUrl": "//lh4.googleusercontent.com/-dtY5ug5Jr14/AAAAAAAAAAI/AAAAAAAAFYE/W2sK6ViWp2o/s50-c-k-no/photo.jpg",
      "userId": "108216370908916447883"
     },
     "user_tz": -540
    },
    "id": "ZYTuWuCla2n-",
    "outputId": "f7f65545-6eda-4f20-b459-aa025b251cc1"
   },
   "outputs": [
    {
     "data": {
      "image/png": "[encoded data removed]",
      "text/plain": [
       "<matplotlib.figure.Figure at 0x7ffb599f9198>"
      ]
     },
     "metadata": {
      "tags": []
     },
     "output_type": "display_data"
    },
    {
     "data": {
      "image/png": "[encoded data removed]",
      "text/plain": [
       "<matplotlib.figure.Figure at 0x7ffb0308ff28>"
      ]
     },
     "metadata": {
      "tags": []
     },
     "output_type": "display_data"
    }
   ],
   "source": [
    "#結果をグラフ表示\n",
    "import matplotlib.pyplot as plt\n",
    "from matplotlib import ticker\n",
    "%matplotlib inline\n",
    "def plot_history(history):\n",
    "    plt.plot(history.history['acc'],\"o-\",label=\"accuracy\")\n",
    "    plt.plot(history.history['val_acc'],\"o-\",label=\"val_acc\")\n",
    "    plt.title('model accuracy')\n",
    "    plt.xlabel('epoch')\n",
    "    plt.ylabel('accuracy')\n",
    "    plt.ylim(0, 1)\n",
    "    plt.legend(bbox_to_anchor=(1.05, 1), loc=2, borderaxespad=0.)\n",
    "    plt.show()\n",
    "\n",
    "    plt.plot(history.history['loss'],\"o-\",label=\"loss\",)\n",
    "    plt.plot(history.history['val_loss'],\"o-\",label=\"val_loss\")\n",
    "    plt.title('model loss')\n",
    "    plt.xlabel('epoch')\n",
    "    plt.ylabel('loss')\n",
    "    plt.ylim(ymin=0)\n",
    "    plt.legend(bbox_to_anchor=(1.05, 1), loc=2, borderaxespad=0.)\n",
    "    plt.show()\n",
    "plot_history(history)"
   ]
  },
  {
   "cell_type": "code",
   "execution_count": 12,
   "metadata": {
    "colab": {
     "autoexec": {
      "startup": false,
      "wait_interval": 0
     },
     "base_uri": "https://localhost:8080/",
     "height": 34
    },
    "colab_type": "code",
    "collapsed": false,
    "executionInfo": {
     "elapsed": 702,
     "status": "ok",
     "timestamp": 1525592912383,
     "user": {
      "displayName": "T Shim",
      "photoUrl": "//lh4.googleusercontent.com/-dtY5ug5Jr14/AAAAAAAAAAI/AAAAAAAAFYE/W2sK6ViWp2o/s50-c-k-no/photo.jpg",
      "userId": "108216370908916447883"
     },
     "user_tz": -540
    },
    "id": "xLf9qdxTa9UK",
    "outputId": "eff55442-fee0-49b4-a65f-41c2d34c0278"
   },
   "outputs": [
    {
     "name": "stdout",
     "output_type": "stream",
     "text": [
      "Found 1556 images belonging to 2 classes.\n"
     ]
    }
   ],
   "source": [
    "#テスト用データ準備\n",
    "test_datagen = ImageDataGenerator(rescale=1.0 / 255)\n",
    "test_generator = test_datagen.flow_from_directory(\n",
    "    'test',\n",
    "    target_size=(150, 150),\n",
    "    batch_size=32,\n",
    "    class_mode='binary')"
   ]
  },
  {
   "cell_type": "code",
   "execution_count": 13,
   "metadata": {
    "colab": {
     "autoexec": {
      "startup": false,
      "wait_interval": 0
     },
     "base_uri": "https://localhost:8080/",
     "height": 85
    },
    "colab_type": "code",
    "collapsed": false,
    "executionInfo": {
     "elapsed": 5147,
     "status": "ok",
     "timestamp": 1525592935501,
     "user": {
      "displayName": "T Shim",
      "photoUrl": "//lh4.googleusercontent.com/-dtY5ug5Jr14/AAAAAAAAAAI/AAAAAAAAFYE/W2sK6ViWp2o/s50-c-k-no/photo.jpg",
      "userId": "108216370908916447883"
     },
     "user_tz": -540
    },
    "id": "SaAKAByDbG8G",
    "outputId": "3036fca0-989a-4a1e-edd6-9474f10b5c47"
   },
   "outputs": [
    {
     "name": "stdout",
     "output_type": "stream",
     "text": [
      "\n",
      " test loss: 0.35518179140544487\n",
      "\n",
      " test_acc: 0.8740359900236743\n"
     ]
    }
   ],
   "source": [
    "#テストの結果を表示\n",
    "score=model.evaluate_generator(test_generator)\n",
    "print('\\n test loss:',score[0])\n",
    "print('\\n test_acc:',score[1])"
   ]
  }
 ],
 "metadata": {
  "accelerator": "GPU",
  "anaconda-cloud": {},
  "colab": {
   "collapsed_sections": [],
   "default_view": {},
   "name": "keras.ipynb",
   "provenance": [],
   "version": "0.3.2",
   "views": {}
  },
  "kernelspec": {
   "display_name": "Python [Root]",
   "language": "python",
   "name": "Python [Root]"
  },
  "language_info": {
   "codemirror_mode": {
    "name": "ipython",
    "version": 3
   },
   "file_extension": ".py",
   "mimetype": "text/x-python",
   "name": "python",
   "nbconvert_exporter": "python",
   "pygments_lexer": "ipython3",
   "version": "3.5.2"
  }
 },
 "nbformat": 4,
 "nbformat_minor": 0
}
