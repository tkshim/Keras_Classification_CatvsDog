{
 "cells": [
  {
   "cell_type": "code",
   "execution_count": 1,
   "metadata": {
    "collapsed": false
   },
   "outputs": [
    {
     "name": "stderr",
     "output_type": "stream",
     "text": [
      "//anaconda/lib/python3.5/site-packages/h5py/__init__.py:36: FutureWarning: Conversion of the second argument of issubdtype from `float` to `np.floating` is deprecated. In future, it will be treated as `np.float64 == np.dtype(float).type`.\n",
      "  from ._conv import register_converters as _register_converters\n",
      "Using TensorFlow backend.\n",
      "//anaconda/lib/python3.5/importlib/_bootstrap.py:222: RuntimeWarning: compiletime version 3.6 of module 'tensorflow.python.framework.fast_tensor_util' does not match runtime version 3.5\n",
      "  return f(*args, **kwds)\n"
     ]
    }
   ],
   "source": [
    "#ライブラリの読み込み\n",
    "import os\n",
    "from keras.models import Sequential\n",
    "from keras.layers import Convolution2D, MaxPooling2D\n",
    "from keras.layers import Activation, Dropout, Flatten, Dense\n",
    "from keras.preprocessing.image import ImageDataGenerator\n",
    "\n",
    "nb_epoch = 50\n",
    "result_dir = 'results'"
   ]
  },
  {
   "cell_type": "code",
   "execution_count": 2,
   "metadata": {
    "collapsed": true
   },
   "outputs": [],
   "source": [
    "#学習モデル保存関数\n",
    "def save_history(history, result_file):\n",
    "    loss = history.history['loss']\n",
    "    acc = history.history['acc']\n",
    "    val_loss = history.history['val_loss']\n",
    "    val_acc = history.history['val_acc']\n",
    "    nb_epoch = len(acc)\n",
    "\n",
    "    with open(result_file, \"w\") as fp:\n",
    "        fp.write(\"epoch\\tloss\\tacc\\tval_loss\\tval_acc\\n\")\n",
    "        for i in range(nb_epoch):\n",
    "            fp.write(\"%d\\t%f\\t%f\\t%f\\t%f\\n\" % (i, loss[i], acc[i], val_loss[i], val_acc[i]))"
   ]
  },
  {
   "cell_type": "code",
   "execution_count": 3,
   "metadata": {
    "collapsed": false
   },
   "outputs": [
    {
     "name": "stderr",
     "output_type": "stream",
     "text": [
      "//anaconda/lib/python3.5/site-packages/ipykernel/__main__.py:2: UserWarning: Update your `Conv2D` call to the Keras 2 API: `Conv2D(32, (3, 3), input_shape=(150, 150,...)`\n",
      "  from ipykernel import kernelapp as app\n",
      "//anaconda/lib/python3.5/site-packages/ipykernel/__main__.py:6: UserWarning: Update your `Conv2D` call to the Keras 2 API: `Conv2D(32, (3, 3))`\n",
      "//anaconda/lib/python3.5/site-packages/ipykernel/__main__.py:10: UserWarning: Update your `Conv2D` call to the Keras 2 API: `Conv2D(64, (3, 3))`\n"
     ]
    }
   ],
   "source": [
    "#モデル作成\n",
    "#optimizerはadamを設定\n",
    "\n",
    "model = Sequential()\n",
    "model.add(Convolution2D(32, 3, 3, input_shape=(150, 150, 3)))\n",
    "model.add(Activation('relu'))\n",
    "model.add(MaxPooling2D(pool_size=(2, 2)))\n",
    "\n",
    "model.add(Convolution2D(32, 3, 3))\n",
    "model.add(Activation('relu'))\n",
    "model.add(MaxPooling2D(pool_size=(2, 2)))\n",
    "\n",
    "model.add(Convolution2D(64, 3, 3))\n",
    "model.add(Activation('relu'))\n",
    "model.add(MaxPooling2D(pool_size=(2, 2)))\n",
    "\n",
    "model.add(Flatten())\n",
    "model.add(Dense(64))\n",
    "model.add(Activation('relu'))\n",
    "model.add(Dropout(0.5))\n",
    "model.add(Dense(1))\n",
    "model.add(Activation('sigmoid'))\n",
    "\n",
    "model.compile(loss='binary_crossentropy',\n",
    "              optimizer='adam',\n",
    "              metrics=['accuracy'])"
   ]
  },
  {
   "cell_type": "code",
   "execution_count": 4,
   "metadata": {
    "collapsed": false
   },
   "outputs": [
    {
     "name": "stdout",
     "output_type": "stream",
     "text": [
      "Found 1560 images belonging to 2 classes.\n",
      "Found 200 images belonging to 2 classes.\n"
     ]
    }
   ],
   "source": [
    "#データ準備\n",
    "train_datagen = ImageDataGenerator(\n",
    "    rescale=1.0 / 255,\n",
    "    shear_range=0.2,\n",
    "    zoom_range=0.2,\n",
    "    horizontal_flip=True)\n",
    "\n",
    "validation_datagen = ImageDataGenerator(rescale=1.0 / 255)\n",
    "\n",
    "train_generator = train_datagen.flow_from_directory(\n",
    "    'train',\n",
    "    target_size=(150, 150),\n",
    "    batch_size=32,\n",
    "    class_mode='binary')\n",
    "\n",
    "validation_generator = validation_datagen.flow_from_directory(\n",
    "    'validation',\n",
    "    target_size=(150, 150),\n",
    "    batch_size=32,\n",
    "    class_mode='binary')"
   ]
  },
  {
   "cell_type": "code",
   "execution_count": 5,
   "metadata": {
    "collapsed": false
   },
   "outputs": [
    {
     "name": "stderr",
     "output_type": "stream",
     "text": [
      "//anaconda/lib/python3.5/site-packages/ipykernel/__main__.py:4: UserWarning: The semantics of the Keras 2 argument `steps_per_epoch` is not the same as the Keras 1 argument `samples_per_epoch`. `steps_per_epoch` is the number of batches to draw from the generator at each epoch. Basically steps_per_epoch = samples_per_epoch/batch_size. Similarly `nb_val_samples`->`validation_steps` and `val_samples`->`steps` arguments have changed. Update your method calls accordingly.\n",
      "//anaconda/lib/python3.5/site-packages/ipykernel/__main__.py:4: UserWarning: Update your `fit_generator` call to the Keras 2 API: `fit_generator(<keras.pre..., validation_data=<keras.pre..., epochs=50)`\n"
     ]
    },
    {
     "name": "stdout",
     "output_type": "stream",
     "text": [
      "Epoch 1/50\n",
      "49/49 [==============================] - 55s 1s/step - loss: 0.6956 - acc: 0.5191 - val_loss: 0.6831 - val_acc: 0.6400\n",
      "Epoch 2/50\n",
      "49/49 [==============================] - 56s 1s/step - loss: 0.6870 - acc: 0.5550 - val_loss: 0.6678 - val_acc: 0.5600\n",
      "Epoch 3/50\n",
      "49/49 [==============================] - 60s 1s/step - loss: 0.6682 - acc: 0.5904 - val_loss: 0.6359 - val_acc: 0.6350\n",
      "Epoch 4/50\n",
      "49/49 [==============================] - 58s 1s/step - loss: 0.6546 - acc: 0.6097 - val_loss: 0.6322 - val_acc: 0.5800\n",
      "Epoch 5/50\n",
      "49/49 [==============================] - 64s 1s/step - loss: 0.6575 - acc: 0.6176 - val_loss: 0.6259 - val_acc: 0.6200\n",
      "Epoch 6/50\n",
      "49/49 [==============================] - 60s 1s/step - loss: 0.6246 - acc: 0.6569 - val_loss: 0.5923 - val_acc: 0.6550\n",
      "Epoch 7/50\n",
      "49/49 [==============================] - 58s 1s/step - loss: 0.6274 - acc: 0.6699 - val_loss: 0.5732 - val_acc: 0.6800\n",
      "Epoch 8/50\n",
      "49/49 [==============================] - 58s 1s/step - loss: 0.6072 - acc: 0.6664 - val_loss: 0.5765 - val_acc: 0.6700\n",
      "Epoch 9/50\n",
      "49/49 [==============================] - 57s 1s/step - loss: 0.5918 - acc: 0.6830 - val_loss: 0.5660 - val_acc: 0.7100\n",
      "Epoch 10/50\n",
      "49/49 [==============================] - 61s 1s/step - loss: 0.6020 - acc: 0.6703 - val_loss: 0.5759 - val_acc: 0.6450\n",
      "Epoch 11/50\n",
      "49/49 [==============================] - 63s 1s/step - loss: 0.5649 - acc: 0.7020 - val_loss: 0.5557 - val_acc: 0.6850\n",
      "Epoch 12/50\n",
      "49/49 [==============================] - 65s 1s/step - loss: 0.5543 - acc: 0.7172 - val_loss: 0.5623 - val_acc: 0.6800\n",
      "Epoch 13/50\n",
      "49/49 [==============================] - 68s 1s/step - loss: 0.5540 - acc: 0.7005 - val_loss: 0.5327 - val_acc: 0.7400\n",
      "Epoch 14/50\n",
      "49/49 [==============================] - 62s 1s/step - loss: 0.5344 - acc: 0.7396 - val_loss: 0.5904 - val_acc: 0.6500\n",
      "Epoch 15/50\n",
      "49/49 [==============================] - 60s 1s/step - loss: 0.5191 - acc: 0.7527 - val_loss: 0.5028 - val_acc: 0.7650\n",
      "Epoch 16/50\n",
      "49/49 [==============================] - 57s 1s/step - loss: 0.5104 - acc: 0.7519 - val_loss: 0.5518 - val_acc: 0.7200\n",
      "Epoch 17/50\n",
      "49/49 [==============================] - 60s 1s/step - loss: 0.5039 - acc: 0.7538 - val_loss: 0.5249 - val_acc: 0.7400\n",
      "Epoch 18/50\n",
      "49/49 [==============================] - 61s 1s/step - loss: 0.5029 - acc: 0.7596 - val_loss: 0.5046 - val_acc: 0.7450\n",
      "Epoch 19/50\n",
      "49/49 [==============================] - 58s 1s/step - loss: 0.4836 - acc: 0.7687 - val_loss: 0.5353 - val_acc: 0.7300\n",
      "Epoch 20/50\n",
      "49/49 [==============================] - 60s 1s/step - loss: 0.4706 - acc: 0.7855 - val_loss: 0.5067 - val_acc: 0.7650\n",
      "Epoch 21/50\n",
      "49/49 [==============================] - 59s 1s/step - loss: 0.4721 - acc: 0.7810 - val_loss: 0.5155 - val_acc: 0.7700\n",
      "Epoch 22/50\n",
      "49/49 [==============================] - 59s 1s/step - loss: 0.4551 - acc: 0.7932 - val_loss: 0.5159 - val_acc: 0.7400\n",
      "Epoch 23/50\n",
      "49/49 [==============================] - 60s 1s/step - loss: 0.4418 - acc: 0.7972 - val_loss: 0.5038 - val_acc: 0.7550\n",
      "Epoch 24/50\n",
      "49/49 [==============================] - 60s 1s/step - loss: 0.4415 - acc: 0.7849 - val_loss: 0.5214 - val_acc: 0.7750\n",
      "Epoch 25/50\n",
      "49/49 [==============================] - 57s 1s/step - loss: 0.4283 - acc: 0.8072 - val_loss: 0.5028 - val_acc: 0.7800\n",
      "Epoch 26/50\n",
      "49/49 [==============================] - 58s 1s/step - loss: 0.3956 - acc: 0.8276 - val_loss: 0.5344 - val_acc: 0.7650\n",
      "Epoch 27/50\n",
      "49/49 [==============================] - 54s 1s/step - loss: 0.4149 - acc: 0.8163 - val_loss: 0.5621 - val_acc: 0.7350\n",
      "Epoch 28/50\n",
      "49/49 [==============================] - 54s 1s/step - loss: 0.4009 - acc: 0.8270 - val_loss: 0.5141 - val_acc: 0.7550\n",
      "Epoch 29/50\n",
      "49/49 [==============================] - 56s 1s/step - loss: 0.4069 - acc: 0.8257 - val_loss: 0.4942 - val_acc: 0.7850\n",
      "Epoch 30/50\n",
      "49/49 [==============================] - 61s 1s/step - loss: 0.3918 - acc: 0.8314 - val_loss: 0.5042 - val_acc: 0.7750\n",
      "Epoch 31/50\n",
      "49/49 [==============================] - 57s 1s/step - loss: 0.3819 - acc: 0.8323 - val_loss: 0.4925 - val_acc: 0.7750\n",
      "Epoch 32/50\n",
      "49/49 [==============================] - 67s 1s/step - loss: 0.3643 - acc: 0.8399 - val_loss: 0.5300 - val_acc: 0.7500\n",
      "Epoch 33/50\n",
      "49/49 [==============================] - 68s 1s/step - loss: 0.3468 - acc: 0.8571 - val_loss: 0.5317 - val_acc: 0.7900\n",
      "Epoch 34/50\n",
      "49/49 [==============================] - 60s 1s/step - loss: 0.3503 - acc: 0.8523 - val_loss: 0.5286 - val_acc: 0.7400\n",
      "Epoch 35/50\n",
      "49/49 [==============================] - 57s 1s/step - loss: 0.3287 - acc: 0.8586 - val_loss: 0.5433 - val_acc: 0.7850\n",
      "Epoch 36/50\n",
      "49/49 [==============================] - 65s 1s/step - loss: 0.3234 - acc: 0.8591 - val_loss: 0.6244 - val_acc: 0.7200\n",
      "Epoch 37/50\n",
      "49/49 [==============================] - 55s 1s/step - loss: 0.3364 - acc: 0.8520 - val_loss: 0.5281 - val_acc: 0.7750\n",
      "Epoch 38/50\n",
      "49/49 [==============================] - 61s 1s/step - loss: 0.2989 - acc: 0.8716 - val_loss: 0.5679 - val_acc: 0.7750\n",
      "Epoch 39/50\n",
      "49/49 [==============================] - 59s 1s/step - loss: 0.2876 - acc: 0.8778 - val_loss: 0.5401 - val_acc: 0.8000\n",
      "Epoch 40/50\n",
      "49/49 [==============================] - 64s 1s/step - loss: 0.2841 - acc: 0.8846 - val_loss: 0.5142 - val_acc: 0.8050\n",
      "Epoch 41/50\n",
      "49/49 [==============================] - 67s 1s/step - loss: 0.2625 - acc: 0.8863 - val_loss: 0.6989 - val_acc: 0.7750\n",
      "Epoch 42/50\n",
      "49/49 [==============================] - 67s 1s/step - loss: 0.3057 - acc: 0.8761 - val_loss: 0.5918 - val_acc: 0.7700\n",
      "Epoch 43/50\n",
      "49/49 [==============================] - 65s 1s/step - loss: 0.2738 - acc: 0.8905 - val_loss: 0.6007 - val_acc: 0.7850\n",
      "Epoch 44/50\n",
      "49/49 [==============================] - 67s 1s/step - loss: 0.2674 - acc: 0.8950 - val_loss: 0.5571 - val_acc: 0.7900\n",
      "Epoch 45/50\n",
      "49/49 [==============================] - 77s 2s/step - loss: 0.2692 - acc: 0.8856 - val_loss: 0.6359 - val_acc: 0.7600\n",
      "Epoch 46/50\n",
      "49/49 [==============================] - 71s 1s/step - loss: 0.2480 - acc: 0.8975 - val_loss: 0.5977 - val_acc: 0.7800\n",
      "Epoch 47/50\n",
      "49/49 [==============================] - 67s 1s/step - loss: 0.2401 - acc: 0.9094 - val_loss: 0.6516 - val_acc: 0.7500\n",
      "Epoch 48/50\n",
      "49/49 [==============================] - 74s 2s/step - loss: 0.2442 - acc: 0.8984 - val_loss: 0.5789 - val_acc: 0.7950\n",
      "Epoch 49/50\n",
      "49/49 [==============================] - 69s 1s/step - loss: 0.2471 - acc: 0.9022 - val_loss: 0.6312 - val_acc: 0.7650\n",
      "Epoch 50/50\n",
      "49/49 [==============================] - 59s 1s/step - loss: 0.2419 - acc: 0.8946 - val_loss: 0.6055 - val_acc: 0.7800\n"
     ]
    }
   ],
   "source": [
    "#モデル実行\n",
    "history = model.fit_generator(\n",
    "    train_generator,\n",
    "    nb_epoch=nb_epoch,\n",
    "    validation_data=validation_generator)"
   ]
  },
  {
   "cell_type": "code",
   "execution_count": 6,
   "metadata": {
    "collapsed": true
   },
   "outputs": [],
   "source": [
    "#結果保存\n",
    "model.save_weights(os.path.join(result_dir, 'base_keras.h5'))\n",
    "save_history(history, os.path.join(result_dir, 'history_base_keras.txt'))"
   ]
  },
  {
   "cell_type": "code",
   "execution_count": null,
   "metadata": {
    "collapsed": true
   },
   "outputs": [],
   "source": [
    "学習モデルの結果\n",
    "loss: 0.6055\n",
    "acc: 0.8946"
   ]
  },
  {
   "cell_type": "code",
   "execution_count": 8,
   "metadata": {
    "collapsed": false
   },
   "outputs": [
    {
     "data": {
      "image/png": "[encoded data removed]",
      "text/plain": [
       "<Figure size 600x400 with 1 Axes>"
      ]
     },
     "metadata": {},
     "output_type": "display_data"
    },
    {
     "data": {
      "image/png": "[encoded data removed]",
      "text/plain": [
       "<Figure size 600x400 with 1 Axes>"
      ]
     },
     "metadata": {},
     "output_type": "display_data"
    }
   ],
   "source": [
    "#結果をグラフ表示\n",
    "import matplotlib.pyplot as plt\n",
    "from matplotlib import ticker\n",
    "%matplotlib inline\n",
    "def plot_history(history):\n",
    "    plt.plot(history.history['acc'],\"o-\",label=\"accuracy\")\n",
    "    plt.plot(history.history['val_acc'],\"o-\",label=\"val_acc\")\n",
    "    plt.title('model accuracy')\n",
    "    plt.xlabel('epoch')\n",
    "    plt.ylabel('accuracy')\n",
    "    plt.ylim(0, 1)\n",
    "    plt.legend(bbox_to_anchor=(1.05, 1), loc=2, borderaxespad=0.)\n",
    "    plt.show()\n",
    "\n",
    "    plt.plot(history.history['loss'],\"o-\",label=\"loss\",)\n",
    "    plt.plot(history.history['val_loss'],\"o-\",label=\"val_loss\")\n",
    "    plt.title('model loss')\n",
    "    plt.xlabel('epoch')\n",
    "    plt.ylabel('loss')\n",
    "    plt.ylim(ymin=0)\n",
    "    plt.legend(bbox_to_anchor=(1.05, 1), loc=2, borderaxespad=0.)\n",
    "    plt.show()\n",
    "plot_history(history)"
   ]
  },
  {
   "cell_type": "code",
   "execution_count": 10,
   "metadata": {
    "collapsed": false
   },
   "outputs": [
    {
     "name": "stdout",
     "output_type": "stream",
     "text": [
      "Found 160 images belonging to 2 classes.\n"
     ]
    }
   ],
   "source": [
    "#テスト用データ準備\n",
    "test_datagen = ImageDataGenerator(rescale=1.0 / 255)\n",
    "test_generator = test_datagen.flow_from_directory(\n",
    "    'test',\n",
    "    target_size=(150, 150),\n",
    "    batch_size=32,\n",
    "    class_mode='binary')"
   ]
  },
  {
   "cell_type": "code",
   "execution_count": 11,
   "metadata": {
    "collapsed": false
   },
   "outputs": [
    {
     "name": "stdout",
     "output_type": "stream",
     "text": [
      "\n",
      " test loss: 0.48750585317611694\n",
      "\n",
      " test_acc: 0.8125\n"
     ]
    }
   ],
   "source": [
    "#テストの結果を表示\n",
    "score=model.evaluate_generator(test_generator)\n",
    "print('\\n test loss:',score[0])\n",
    "print('\\n test_acc:',score[1])"
   ]
  },
  {
   "cell_type": "code",
   "execution_count": null,
   "metadata": {
    "collapsed": true
   },
   "outputs": [],
   "source": []
  }
 ],
 "metadata": {
  "anaconda-cloud": {},
  "kernelspec": {
   "display_name": "Python [Root]",
   "language": "python",
   "name": "Python [Root]"
  },
  "language_info": {
   "codemirror_mode": {
    "name": "ipython",
    "version": 3
   },
   "file_extension": ".py",
   "mimetype": "text/x-python",
   "name": "python",
   "nbconvert_exporter": "python",
   "pygments_lexer": "ipython3",
   "version": "3.5.2"
  }
 },
 "nbformat": 4,
 "nbformat_minor": 0
}
